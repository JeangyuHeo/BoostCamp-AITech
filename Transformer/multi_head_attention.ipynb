{
 "cells": [
  {
   "cell_type": "code",
   "execution_count": 1,
   "id": "d8f082e6-042a-443b-a8b2-835c29a859de",
   "metadata": {},
   "outputs": [],
   "source": [
    "from torch import nn\n",
    "from torch.nn import functional as F\n",
    "from tqdm import tqdm\n",
    "\n",
    "import torch\n",
    "import math"
   ]
  },
  {
   "cell_type": "code",
   "execution_count": 2,
   "id": "fd460057-9be5-4c8a-8ac6-fab58c770ec8",
   "metadata": {},
   "outputs": [],
   "source": [
    "pad_id = 0\n",
    "vocab_size = 100\n",
    "\n",
    "data = [\n",
    "  [62, 13, 47, 39, 78, 33, 56, 13, 39, 29, 44, 86, 71, 36, 18, 75],\n",
    "  [60, 96, 51, 32, 90],\n",
    "  [35, 45, 48, 65, 91, 99, 92, 10, 3, 21, 54],\n",
    "  [75, 51],\n",
    "  [66, 88, 98, 47],\n",
    "  [21, 39, 10, 64, 21],\n",
    "  [98],\n",
    "  [77, 65, 51, 77, 19, 15, 35, 19, 23, 97, 50, 46, 53, 42, 45, 91, 66, 3, 43, 10],\n",
    "  [70, 64, 98, 25, 99, 53, 4, 13, 69, 62, 66, 76, 15, 75, 45, 34],\n",
    "  [20, 64, 81, 35, 76, 85, 1, 62, 8, 45, 99, 77, 19, 43]\n",
    "]"
   ]
  },
  {
   "cell_type": "code",
   "execution_count": 3,
   "id": "8b34c93c-9621-4cbf-809a-58493e0e2971",
   "metadata": {},
   "outputs": [],
   "source": [
    "def padding(data):\n",
    "    max_len = len(max(data, key=len))\n",
    "    print(f\"Maximum sequence length: {max_len}\")\n",
    "    \n",
    "    for i, seq in enumerate(tqdm(data)):\n",
    "        if len(seq) < max_len:\n",
    "            data[i] = seq + [pad_id] * (max_len - len(seq))\n",
    "    return data, max_len"
   ]
  },
  {
   "cell_type": "code",
   "execution_count": 4,
   "id": "0f880d92-a7a2-4386-b96e-15a8f285cae9",
   "metadata": {},
   "outputs": [
    {
     "name": "stderr",
     "output_type": "stream",
     "text": [
      "100%|██████████| 10/10 [00:00<00:00, 93832.30it/s]"
     ]
    },
    {
     "name": "stdout",
     "output_type": "stream",
     "text": [
      "Maximum sequence length: 20\n"
     ]
    },
    {
     "name": "stderr",
     "output_type": "stream",
     "text": [
      "\n"
     ]
    }
   ],
   "source": [
    "data, max_len = padding(data)"
   ]
  },
  {
   "cell_type": "code",
   "execution_count": 5,
   "id": "c6f2c02f-4143-439c-aa0a-b07f70fcdf31",
   "metadata": {},
   "outputs": [
    {
     "data": {
      "text/plain": [
       "[[62, 13, 47, 39, 78, 33, 56, 13, 39, 29, 44, 86, 71, 36, 18, 75, 0, 0, 0, 0],\n",
       " [60, 96, 51, 32, 90, 0, 0, 0, 0, 0, 0, 0, 0, 0, 0, 0, 0, 0, 0, 0],\n",
       " [35, 45, 48, 65, 91, 99, 92, 10, 3, 21, 54, 0, 0, 0, 0, 0, 0, 0, 0, 0],\n",
       " [75, 51, 0, 0, 0, 0, 0, 0, 0, 0, 0, 0, 0, 0, 0, 0, 0, 0, 0, 0],\n",
       " [66, 88, 98, 47, 0, 0, 0, 0, 0, 0, 0, 0, 0, 0, 0, 0, 0, 0, 0, 0],\n",
       " [21, 39, 10, 64, 21, 0, 0, 0, 0, 0, 0, 0, 0, 0, 0, 0, 0, 0, 0, 0],\n",
       " [98, 0, 0, 0, 0, 0, 0, 0, 0, 0, 0, 0, 0, 0, 0, 0, 0, 0, 0, 0],\n",
       " [77,\n",
       "  65,\n",
       "  51,\n",
       "  77,\n",
       "  19,\n",
       "  15,\n",
       "  35,\n",
       "  19,\n",
       "  23,\n",
       "  97,\n",
       "  50,\n",
       "  46,\n",
       "  53,\n",
       "  42,\n",
       "  45,\n",
       "  91,\n",
       "  66,\n",
       "  3,\n",
       "  43,\n",
       "  10],\n",
       " [70, 64, 98, 25, 99, 53, 4, 13, 69, 62, 66, 76, 15, 75, 45, 34, 0, 0, 0, 0],\n",
       " [20, 64, 81, 35, 76, 85, 1, 62, 8, 45, 99, 77, 19, 43, 0, 0, 0, 0, 0, 0]]"
      ]
     },
     "execution_count": 5,
     "metadata": {},
     "output_type": "execute_result"
    }
   ],
   "source": [
    "data"
   ]
  },
  {
   "cell_type": "code",
   "execution_count": 6,
   "id": "2ba92e71-3cd2-4cac-a6e4-1edb36eb1845",
   "metadata": {},
   "outputs": [],
   "source": [
    "d_model = 512 #model의 hidden size\n",
    "num_heads = 8 #head의 개수"
   ]
  },
  {
   "cell_type": "code",
   "execution_count": 11,
   "id": "45cbcddf-cbbd-4f51-ad47-438b4a5ea057",
   "metadata": {},
   "outputs": [],
   "source": [
    "embedding = nn.Embedding(vocab_size, d_model)\n",
    "\n",
    "batch = torch.LongTensor(data)\n",
    "batch_emb = embedding(batch)"
   ]
  },
  {
   "cell_type": "code",
   "execution_count": 13,
   "id": "d52329c9-4cdc-4198-8f08-c8234b4d039a",
   "metadata": {},
   "outputs": [
    {
     "name": "stdout",
     "output_type": "stream",
     "text": [
      "tensor([[[-0.0690,  0.9569,  0.0342,  ...,  0.0632,  0.2650,  0.1710],\n",
      "         [-0.1351, -1.7390, -0.6677,  ...,  1.1584,  0.1202, -0.6042],\n",
      "         [-0.2664, -0.5098, -1.0920,  ...,  1.3691,  0.1031,  0.6187],\n",
      "         ...,\n",
      "         [ 0.1616,  1.9206, -1.2345,  ..., -0.2741, -1.0108,  0.3288],\n",
      "         [ 0.1616,  1.9206, -1.2345,  ..., -0.2741, -1.0108,  0.3288],\n",
      "         [ 0.1616,  1.9206, -1.2345,  ..., -0.2741, -1.0108,  0.3288]],\n",
      "\n",
      "        [[-0.3157,  0.6164,  0.2753,  ..., -0.0811,  1.3366, -0.6698],\n",
      "         [ 0.7110, -1.2910,  0.8190,  ...,  0.9541, -1.5577, -0.5547],\n",
      "         [ 0.2349,  1.7097, -1.2290,  ..., -1.7882,  2.2449, -0.6559],\n",
      "         ...,\n",
      "         [ 0.1616,  1.9206, -1.2345,  ..., -0.2741, -1.0108,  0.3288],\n",
      "         [ 0.1616,  1.9206, -1.2345,  ..., -0.2741, -1.0108,  0.3288],\n",
      "         [ 0.1616,  1.9206, -1.2345,  ..., -0.2741, -1.0108,  0.3288]],\n",
      "\n",
      "        [[-0.5883,  1.3864, -0.0755,  ..., -0.3122,  0.9327, -0.4524],\n",
      "         [ 1.5826,  1.3885, -1.3150,  ..., -0.5011,  1.7624,  0.9160],\n",
      "         [ 0.0290, -0.4036, -0.1683,  ..., -0.3937, -0.9803,  1.1279],\n",
      "         ...,\n",
      "         [ 0.1616,  1.9206, -1.2345,  ..., -0.2741, -1.0108,  0.3288],\n",
      "         [ 0.1616,  1.9206, -1.2345,  ..., -0.2741, -1.0108,  0.3288],\n",
      "         [ 0.1616,  1.9206, -1.2345,  ..., -0.2741, -1.0108,  0.3288]],\n",
      "\n",
      "        ...,\n",
      "\n",
      "        [[-1.0114, -0.4718,  0.0469,  ..., -0.4824,  0.4633, -0.3906],\n",
      "         [ 1.5284, -0.3722, -1.8523,  ...,  0.3112,  0.4708,  1.0826],\n",
      "         [ 0.2349,  1.7097, -1.2290,  ..., -1.7882,  2.2449, -0.6559],\n",
      "         ...,\n",
      "         [ 0.3797,  1.7922, -0.1552,  ..., -0.8781, -0.0066,  0.1431],\n",
      "         [ 1.1599,  0.4993,  0.5852,  ...,  0.7505, -0.7901, -0.9778],\n",
      "         [-1.1967,  1.4388, -1.2149,  ..., -0.1723,  0.2675, -1.6973]],\n",
      "\n",
      "        [[ 0.1607, -0.3915,  0.7168,  ..., -0.4530,  0.2311, -0.5945],\n",
      "         [ 0.1107,  0.2934, -0.2356,  ..., -1.5803,  1.0229, -0.3691],\n",
      "         [ 1.8159,  1.4068, -0.3195,  ..., -1.0319,  1.5506, -0.4204],\n",
      "         ...,\n",
      "         [ 0.1616,  1.9206, -1.2345,  ..., -0.2741, -1.0108,  0.3288],\n",
      "         [ 0.1616,  1.9206, -1.2345,  ..., -0.2741, -1.0108,  0.3288],\n",
      "         [ 0.1616,  1.9206, -1.2345,  ..., -0.2741, -1.0108,  0.3288]],\n",
      "\n",
      "        [[-1.3966, -1.3670,  1.3781,  ..., -0.9237, -0.0798,  1.7209],\n",
      "         [ 0.1107,  0.2934, -0.2356,  ..., -1.5803,  1.0229, -0.3691],\n",
      "         [ 0.2024,  0.4744,  0.1578,  ..., -1.5638,  1.5787, -0.7742],\n",
      "         ...,\n",
      "         [ 0.1616,  1.9206, -1.2345,  ..., -0.2741, -1.0108,  0.3288],\n",
      "         [ 0.1616,  1.9206, -1.2345,  ..., -0.2741, -1.0108,  0.3288],\n",
      "         [ 0.1616,  1.9206, -1.2345,  ..., -0.2741, -1.0108,  0.3288]]],\n",
      "       grad_fn=<EmbeddingBackward>)\n",
      "torch.Size([10, 20, 512])\n"
     ]
    }
   ],
   "source": [
    "print(batch_emb)\n",
    "print(batch_emb.shape)"
   ]
  },
  {
   "cell_type": "code",
   "execution_count": 14,
   "id": "e74e78ef-5b8a-4aed-9efc-7bb35a1dfe92",
   "metadata": {},
   "outputs": [],
   "source": [
    "w_q = nn.Linear(d_model, d_model)\n",
    "w_k = nn.Linear(d_model, d_model)\n",
    "w_v = nn.Linear(d_model, d_model)"
   ]
  },
  {
   "cell_type": "code",
   "execution_count": 15,
   "id": "7b1cfe53-b457-4281-8994-5449d5286b4c",
   "metadata": {},
   "outputs": [],
   "source": [
    "w_0 = nn.Linear(d_model, d_model)"
   ]
  },
  {
   "cell_type": "code",
   "execution_count": 16,
   "id": "d08a5cf4-26d8-4e15-992d-f3e66c7cee40",
   "metadata": {},
   "outputs": [
    {
     "name": "stdout",
     "output_type": "stream",
     "text": [
      "torch.Size([10, 20, 512])\n",
      "torch.Size([10, 20, 512])\n",
      "torch.Size([10, 20, 512])\n"
     ]
    }
   ],
   "source": [
    "q = w_q(batch_emb)  # (B, L, d_model)\n",
    "k = w_k(batch_emb)  # (B, L, d_model)\n",
    "v = w_v(batch_emb)  # (B, L, d_model)\n",
    "\n",
    "print(q.shape)\n",
    "print(k.shape)\n",
    "print(v.shape)"
   ]
  },
  {
   "cell_type": "code",
   "execution_count": 21,
   "id": "6fe8d9b0-bc80-470a-aeea-af1f8cc3ad79",
   "metadata": {},
   "outputs": [
    {
     "name": "stdout",
     "output_type": "stream",
     "text": [
      "torch.Size([10, 20, 8, 64])\n",
      "torch.Size([10, 20, 8, 64])\n",
      "torch.Size([10, 20, 8, 64])\n",
      "torch.Size([10, 20, 64, 8])\n",
      "torch.Size([10, 20, 64, 8])\n"
     ]
    }
   ],
   "source": [
    "batch_size = q.shape[0]\n",
    "d_k = d_model // num_heads\n",
    "\n",
    "q = q.view(batch_size, -1, num_heads, d_k)  # (B, L, num_heads, d_k)\n",
    "k = k.view(batch_size, -1, num_heads, d_k)  # (B, L, num_heads, d_k)\n",
    "v = v.view(batch_size, -1, num_heads, d_k)  # (B, L, num_heads, d_k)\n",
    "\n",
    "print(q.shape)\n",
    "print(k.shape)\n",
    "print(v.shape)"
   ]
  },
  {
   "cell_type": "code",
   "execution_count": 23,
   "id": "3d453664-36c3-4880-b12a-9e6b78f16bfd",
   "metadata": {},
   "outputs": [
    {
     "name": "stdout",
     "output_type": "stream",
     "text": [
      "torch.Size([10, 8, 20, 64])\n",
      "torch.Size([10, 8, 20, 64])\n",
      "torch.Size([10, 8, 20, 64])\n"
     ]
    }
   ],
   "source": [
    "q = q.transpose(1, 2)  # (B, num_heads, L, d_k)\n",
    "k = k.transpose(1, 2)  # (B, num_heads, L, d_k)\n",
    "v = v.transpose(1, 2)  # (B, num_heads, L, d_k)\n",
    "\n",
    "print(q.shape)\n",
    "print(k.shape)\n",
    "print(v.shape)"
   ]
  },
  {
   "cell_type": "code",
   "execution_count": 26,
   "id": "1b279666-1430-40c6-8e87-0b6daca1952d",
   "metadata": {},
   "outputs": [
    {
     "name": "stdout",
     "output_type": "stream",
     "text": [
      "torch.Size([10, 8, 20, 20])\n"
     ]
    }
   ],
   "source": [
    "attn_scores = torch.matmul(q, k.transpose(-2,-1)) / math.sqrt(d_k) # (B, num_heads, L, L)\n",
    "attn_dists = F.softmax(attn_scores, dim=-1)  # (B, num_heads, L, L)\n",
    "\n",
    "#print(attn_dists)\n",
    "print(attn_dists.shape)"
   ]
  },
  {
   "cell_type": "code",
   "execution_count": 27,
   "id": "dd463a08-c0c1-45f0-a69d-5f3a0fd1f19a",
   "metadata": {},
   "outputs": [
    {
     "name": "stdout",
     "output_type": "stream",
     "text": [
      "torch.Size([10, 8, 20, 64])\n"
     ]
    }
   ],
   "source": [
    "attn_values = torch.matmul(attn_dists, v)  # (B, num_heads, L, d_k)\n",
    "\n",
    "print(attn_values.shape)"
   ]
  },
  {
   "cell_type": "code",
   "execution_count": 28,
   "id": "0d433dbc-d276-46ce-bcb4-19c0ce68608e",
   "metadata": {},
   "outputs": [
    {
     "name": "stdout",
     "output_type": "stream",
     "text": [
      "torch.Size([10, 20, 512])\n"
     ]
    }
   ],
   "source": [
    "attn_values = attn_values.transpose(1, 2)  # (B, L, num_heads, d_k)\n",
    "attn_values = attn_values.contiguous().view(batch_size, -1, d_model)  # (B, L, d_model)\n",
    "\n",
    "print(attn_values.shape)"
   ]
  },
  {
   "cell_type": "code",
   "execution_count": 29,
   "id": "b70c8a89-5fe6-4da5-8acc-092353b47239",
   "metadata": {},
   "outputs": [
    {
     "name": "stdout",
     "output_type": "stream",
     "text": [
      "tensor([[[ 0.2144, -0.0449,  0.0276,  ..., -0.0633, -0.0050, -0.1183],\n",
      "         [ 0.1394, -0.0516,  0.0591,  ..., -0.0700, -0.0338, -0.1512],\n",
      "         [ 0.1084, -0.0692, -0.0139,  ..., -0.0372,  0.0058, -0.1162],\n",
      "         ...,\n",
      "         [ 0.1207, -0.0390, -0.0695,  ..., -0.0745,  0.0317, -0.1047],\n",
      "         [ 0.1207, -0.0390, -0.0695,  ..., -0.0745,  0.0317, -0.1047],\n",
      "         [ 0.1207, -0.0390, -0.0695,  ..., -0.0745,  0.0317, -0.1047]],\n",
      "\n",
      "        [[ 0.1102, -0.1848,  0.1488,  ..., -0.4503, -0.1697, -0.1548],\n",
      "         [ 0.0801, -0.1791,  0.1592,  ..., -0.4735, -0.1449, -0.2138],\n",
      "         [ 0.1635, -0.1896,  0.2121,  ..., -0.5277, -0.1292, -0.2206],\n",
      "         ...,\n",
      "         [ 0.0897, -0.2068,  0.1630,  ..., -0.4870, -0.1488, -0.1985],\n",
      "         [ 0.0897, -0.2068,  0.1630,  ..., -0.4870, -0.1488, -0.1985],\n",
      "         [ 0.0897, -0.2068,  0.1630,  ..., -0.4870, -0.1488, -0.1985]],\n",
      "\n",
      "        [[ 0.0593, -0.1609,  0.0727,  ..., -0.2531, -0.0963, -0.0767],\n",
      "         [ 0.1143, -0.1197,  0.1059,  ..., -0.3062, -0.0860, -0.0607],\n",
      "         [ 0.0718, -0.1749,  0.0769,  ..., -0.2736, -0.0192, -0.0250],\n",
      "         ...,\n",
      "         [ 0.0034, -0.1318,  0.0605,  ..., -0.1753, -0.0490, -0.1151],\n",
      "         [ 0.0034, -0.1318,  0.0605,  ..., -0.1753, -0.0490, -0.1151],\n",
      "         [ 0.0034, -0.1318,  0.0605,  ..., -0.1753, -0.0490, -0.1151]],\n",
      "\n",
      "        ...,\n",
      "\n",
      "        [[ 0.0286,  0.0945, -0.1148,  ..., -0.0498, -0.1225,  0.0760],\n",
      "         [ 0.0140,  0.0881, -0.1025,  ..., -0.0779, -0.1350,  0.0886],\n",
      "         [ 0.0449,  0.0615, -0.0664,  ..., -0.0047, -0.0895,  0.0972],\n",
      "         ...,\n",
      "         [ 0.0454,  0.1193, -0.1049,  ..., -0.0583, -0.1197,  0.0735],\n",
      "         [ 0.0110,  0.1184, -0.0918,  ..., -0.0919, -0.0633,  0.0727],\n",
      "         [ 0.0446,  0.1259, -0.1248,  ..., -0.0471, -0.0641,  0.1140]],\n",
      "\n",
      "        [[ 0.2023, -0.0416,  0.0648,  ..., -0.0466, -0.0503, -0.0232],\n",
      "         [ 0.1963, -0.0087,  0.1305,  ..., -0.0734, -0.0867, -0.0687],\n",
      "         [ 0.2114, -0.0178,  0.1332,  ..., -0.0844, -0.0704, -0.0842],\n",
      "         ...,\n",
      "         [ 0.1617, -0.0373,  0.0838,  ..., -0.0526, -0.0527, -0.0717],\n",
      "         [ 0.1617, -0.0373,  0.0838,  ..., -0.0526, -0.0527, -0.0717],\n",
      "         [ 0.1617, -0.0373,  0.0838,  ..., -0.0526, -0.0527, -0.0717]],\n",
      "\n",
      "        [[ 0.0834,  0.0030,  0.0098,  ..., -0.2033, -0.1278,  0.1015],\n",
      "         [ 0.0811, -0.0115,  0.0779,  ..., -0.2110, -0.1285,  0.0864],\n",
      "         [ 0.0914,  0.0033,  0.0808,  ..., -0.2021, -0.2080,  0.0723],\n",
      "         ...,\n",
      "         [ 0.0292, -0.0103,  0.0325,  ..., -0.1994, -0.1133,  0.0752],\n",
      "         [ 0.0292, -0.0103,  0.0325,  ..., -0.1994, -0.1133,  0.0752],\n",
      "         [ 0.0292, -0.0103,  0.0325,  ..., -0.1994, -0.1133,  0.0752]]],\n",
      "       grad_fn=<AddBackward0>)\n",
      "torch.Size([10, 20, 512])\n"
     ]
    }
   ],
   "source": [
    "outputs = w_0(attn_values)\n",
    "\n",
    "print(outputs)\n",
    "print(outputs.shape)"
   ]
  },
  {
   "cell_type": "code",
   "execution_count": 30,
   "id": "681fd0db-3eb9-4517-917b-457e01993968",
   "metadata": {},
   "outputs": [],
   "source": [
    "class MultiheadAttention(nn.Module):\n",
    "  def __init__(self):\n",
    "    super(MultiheadAttention, self).__init__()\n",
    "\n",
    "    # Q, K, V learnable matrices\n",
    "    self.w_q = nn.Linear(d_model, d_model)\n",
    "    self.w_k = nn.Linear(d_model, d_model)\n",
    "    self.w_v = nn.Linear(d_model, d_model)\n",
    "\n",
    "    # Linear transformation for concatenated outputs\n",
    "    self.w_0 = nn.Linear(d_model, d_model)\n",
    "\n",
    "  def forward(self, q, k, v):\n",
    "    batch_size = q.shape[0]\n",
    "\n",
    "    q = self.w_q(q)  # (B, L, d_model)\n",
    "    k = self.w_k(k)  # (B, L, d_model)\n",
    "    v = self.w_v(v)  # (B, L, d_model)\n",
    "\n",
    "    q = q.view(batch_size, -1, num_heads, d_k)  # (B, L, num_heads, d_k)\n",
    "    k = k.view(batch_size, -1, num_heads, d_k)  # (B, L, num_heads, d_k)\n",
    "    v = v.view(batch_size, -1, num_heads, d_k)  # (B, L, num_heads, d_k)\n",
    "\n",
    "    q = q.transpose(1, 2)  # (B, num_heads, L, d_k)\n",
    "    k = k.transpose(1, 2)  # (B, num_heads, L, d_k)\n",
    "    v = v.transpose(1, 2)  # (B, num_heads, L, d_k)\n",
    "\n",
    "    attn_values = self.self_attention(q, k, v)  # (B, num_heads, L, d_k)\n",
    "    attn_values = attn_values.transpose(1, 2).contiguous().view(batch_size, -1, d_model)  # (B, L, num_heads, d_k) => (B, L, d_model)\n",
    "\n",
    "    return self.w_0(attn_values)\n",
    "\n",
    "  def self_attention(self, q, k, v):\n",
    "    attn_scores = torch.matmul(q, k.transpose(-2, -1)) / math.sqrt(d_k)  # (B, num_heads, L, L)\n",
    "    attn_dists = F.softmax(attn_scores, dim=-1)  # (B, num_heads, L, L)\n",
    "\n",
    "    attn_values = torch.matmul(attn_dists, v)  # (B, num_heads, L, d_k)\n",
    "\n",
    "    return attn_values"
   ]
  },
  {
   "cell_type": "code",
   "execution_count": 31,
   "id": "3f665333-1069-4937-a6a1-28b9d0f642d2",
   "metadata": {},
   "outputs": [],
   "source": [
    "multihead_attn = MultiheadAttention()\n",
    "\n",
    "outputs = multihead_attn(batch_emb, batch_emb, batch_emb)  # (B, L, d_model)"
   ]
  },
  {
   "cell_type": "code",
   "execution_count": 32,
   "id": "ace0c032-03cc-48be-b77f-78883aa1a1c1",
   "metadata": {},
   "outputs": [
    {
     "name": "stdout",
     "output_type": "stream",
     "text": [
      "tensor([[[-1.5793e-01, -4.6884e-02, -2.3922e-01,  ..., -6.3330e-02,\n",
      "          -4.6379e-02,  3.5649e-02],\n",
      "         [-1.2245e-01, -9.0145e-02, -2.3995e-01,  ..., -8.6596e-03,\n",
      "          -2.8390e-02,  6.3573e-02],\n",
      "         [-1.7233e-01, -9.0526e-02, -2.2073e-01,  ...,  4.3520e-03,\n",
      "          -1.9803e-02,  3.6607e-02],\n",
      "         ...,\n",
      "         [-1.6229e-01, -2.6198e-02, -2.0113e-01,  ..., -5.4172e-02,\n",
      "          -8.7981e-03,  5.7405e-03],\n",
      "         [-1.6229e-01, -2.6198e-02, -2.0113e-01,  ..., -5.4172e-02,\n",
      "          -8.7980e-03,  5.7405e-03],\n",
      "         [-1.6229e-01, -2.6198e-02, -2.0113e-01,  ..., -5.4172e-02,\n",
      "          -8.7980e-03,  5.7405e-03]],\n",
      "\n",
      "        [[-3.8079e-01, -2.6607e-01, -4.7060e-01,  ...,  1.5971e-01,\n",
      "          -1.9926e-01, -4.3120e-02],\n",
      "         [-4.0115e-01, -2.7004e-01, -4.4659e-01,  ...,  1.1378e-01,\n",
      "          -2.1741e-01, -3.3329e-02],\n",
      "         [-3.8535e-01, -2.5117e-01, -4.1696e-01,  ...,  6.8521e-02,\n",
      "          -1.7563e-01, -4.2442e-02],\n",
      "         ...,\n",
      "         [-4.1860e-01, -2.6143e-01, -4.2432e-01,  ...,  9.4202e-02,\n",
      "          -2.0052e-01, -6.5423e-02],\n",
      "         [-4.1860e-01, -2.6143e-01, -4.2432e-01,  ...,  9.4202e-02,\n",
      "          -2.0052e-01, -6.5423e-02],\n",
      "         [-4.1860e-01, -2.6143e-01, -4.2432e-01,  ...,  9.4202e-02,\n",
      "          -2.0052e-01, -6.5423e-02]],\n",
      "\n",
      "        [[-3.7510e-01, -2.9649e-01, -3.2961e-01,  ...,  4.1745e-02,\n",
      "          -1.0984e-01, -4.0504e-02],\n",
      "         [-3.5726e-01, -2.9051e-01, -3.4435e-01,  ...,  1.6537e-02,\n",
      "          -1.4717e-01,  2.7971e-03],\n",
      "         [-3.5803e-01, -2.8641e-01, -3.0106e-01,  ..., -3.4554e-02,\n",
      "          -1.4722e-01, -5.1181e-02],\n",
      "         ...,\n",
      "         [-3.6446e-01, -2.3337e-01, -2.8983e-01,  ...,  2.0220e-02,\n",
      "          -1.3241e-01, -4.4177e-02],\n",
      "         [-3.6446e-01, -2.3337e-01, -2.8983e-01,  ...,  2.0220e-02,\n",
      "          -1.3241e-01, -4.4177e-02],\n",
      "         [-3.6446e-01, -2.3337e-01, -2.8983e-01,  ...,  2.0220e-02,\n",
      "          -1.3241e-01, -4.4177e-02]],\n",
      "\n",
      "        ...,\n",
      "\n",
      "        [[ 3.7737e-02, -3.1344e-02, -7.8790e-02,  ..., -6.5449e-02,\n",
      "           7.8063e-02, -5.5204e-02],\n",
      "         [ 1.1289e-02,  1.0429e-02, -1.0649e-01,  ..., -6.9146e-02,\n",
      "           1.1192e-01, -2.7405e-02],\n",
      "         [ 4.4925e-02, -9.0433e-03, -8.7003e-02,  ..., -1.1945e-01,\n",
      "           9.7778e-02, -1.1188e-02],\n",
      "         ...,\n",
      "         [ 2.2504e-02,  8.7171e-03, -1.0656e-01,  ..., -1.6304e-01,\n",
      "           8.2921e-02, -3.7124e-02],\n",
      "         [ 2.0392e-02, -3.2298e-03, -7.6882e-02,  ..., -8.6089e-02,\n",
      "           1.3689e-01, -1.4397e-02],\n",
      "         [-7.8905e-03,  6.5664e-02, -7.3444e-02,  ..., -8.4452e-02,\n",
      "           1.1047e-01, -3.0775e-02]],\n",
      "\n",
      "        [[-1.7643e-01, -1.5375e-01, -1.3918e-01,  ..., -9.5835e-02,\n",
      "          -5.5378e-02,  2.1461e-02],\n",
      "         [-1.9679e-01, -2.0020e-01, -1.3980e-01,  ..., -1.3123e-01,\n",
      "          -2.9310e-02,  5.2929e-02],\n",
      "         [-2.0193e-01, -1.5229e-01, -1.3099e-01,  ..., -1.2845e-01,\n",
      "          -9.9746e-02,  4.1437e-02],\n",
      "         ...,\n",
      "         [-1.4228e-01, -1.8084e-01, -9.5557e-02,  ..., -1.5847e-01,\n",
      "          -4.8601e-02,  3.8585e-02],\n",
      "         [-1.4228e-01, -1.8084e-01, -9.5557e-02,  ..., -1.5847e-01,\n",
      "          -4.8601e-02,  3.8585e-02],\n",
      "         [-1.4228e-01, -1.8084e-01, -9.5557e-02,  ..., -1.5847e-01,\n",
      "          -4.8601e-02,  3.8585e-02]],\n",
      "\n",
      "        [[-2.7090e-01, -1.9169e-01, -1.6555e-01,  ...,  3.0565e-02,\n",
      "           1.9248e-02, -8.7508e-02],\n",
      "         [-3.1307e-01, -2.0127e-01, -1.9185e-01,  ...,  4.8843e-02,\n",
      "           3.5282e-02, -6.2328e-02],\n",
      "         [-2.7735e-01, -1.4873e-01, -1.6426e-01,  ...,  4.4084e-02,\n",
      "          -1.0801e-02, -1.1328e-01],\n",
      "         ...,\n",
      "         [-2.6962e-01, -1.6360e-01, -1.5315e-01,  ...,  7.6666e-06,\n",
      "          -7.4463e-03, -4.0531e-02],\n",
      "         [-2.6962e-01, -1.6360e-01, -1.5315e-01,  ...,  7.6517e-06,\n",
      "          -7.4463e-03, -4.0531e-02],\n",
      "         [-2.6962e-01, -1.6360e-01, -1.5315e-01,  ...,  7.6517e-06,\n",
      "          -7.4463e-03, -4.0531e-02]]], grad_fn=<AddBackward0>)\n",
      "torch.Size([10, 20, 512])\n"
     ]
    }
   ],
   "source": [
    "print(outputs)\n",
    "print(outputs.shape)"
   ]
  },
  {
   "cell_type": "code",
   "execution_count": null,
   "id": "bd9293b4-ed1f-401a-af7e-def1a757a1c5",
   "metadata": {},
   "outputs": [],
   "source": []
  }
 ],
 "metadata": {
  "kernelspec": {
   "display_name": "Python 3",
   "language": "python",
   "name": "python3"
  },
  "language_info": {
   "codemirror_mode": {
    "name": "ipython",
    "version": 3
   },
   "file_extension": ".py",
   "mimetype": "text/x-python",
   "name": "python",
   "nbconvert_exporter": "python",
   "pygments_lexer": "ipython3",
   "version": "3.8.5"
  }
 },
 "nbformat": 4,
 "nbformat_minor": 5
}
